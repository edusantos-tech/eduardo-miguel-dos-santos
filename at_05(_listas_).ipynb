{
  "cells": [
    {
      "cell_type": "markdown",
      "metadata": {
        "id": "view-in-github",
        "colab_type": "text"
      },
      "source": [
        "<a href=\"https://colab.research.google.com/github/edusantos-tech/eduardo-miguel-dos-santos/blob/main/at_05(_listas_).ipynb\" target=\"_parent\"><img src=\"https://colab.research.google.com/assets/colab-badge.svg\" alt=\"Open In Colab\"/></a>"
      ]
    },
    {
      "cell_type": "markdown",
      "source": [
        "# Nova seção"
      ],
      "metadata": {
        "id": "RC0IkwPjb9u-"
      }
    },
    {
      "cell_type": "code",
      "source": [
        "import statistics\n",
        "\n",
        "# Função para calcular IMC\n",
        "def calcula_imc(peso=70, altura=1.75):\n",
        "    return peso / (altura ** 2)\n",
        "\n",
        "# Lista de alturas\n",
        "alturas = [45, 23, 67, 12, 11, 89, 23, 41, 50, 62, 78, 34, 56, 19, 72, 88, 11, 90, 39, 65, 76, 27, 48, 59, 81, 14, 11,\n",
        "           93, 3, 68, 29, 52, 74, 16, 85, 20, 55, 38, 69, 11, 83, 7, 44, 61, 18, 96, 22, 58, 31, 71, 40, 53, 87, 31]\n",
        "\n",
        "# Funções padrão do Python\n",
        "def calcular_estatisticas(lista):\n",
        "    return {\n",
        "        \"Maior valor\": max(lista),\n",
        "        \"Menor valor\": min(lista),\n",
        "        \"Soma dos valores\": sum(lista),\n",
        "        \"Valor absoluto de -25\": abs(-25),\n",
        "        \"Número 3.14159 arredondado para 2 casas decimais\": round(3.14159, 2),\n",
        "        \"Média\": round(statistics.mean(lista), 2),\n",
        "        \"Mediana\": statistics.median(lista),\n",
        "        \"Moda\": statistics.mode(lista),\n",
        "        \"Variância da amostra\": round(statistics.variance(lista), 2),\n",
        "        \"Desvio padrão da amostra\": round(statistics.stdev(lista), 2)\n",
        "    }\n",
        "\n",
        "# Exibir estatísticas\n",
        "estatisticas = calcular_estatisticas(alturas)\n",
        "for chave, valor in estatisticas.items():\n",
        "    print(f\"{chave}: {valor}\")\n",
        "\n",
        "# Exemplo de cálculo de IMC\n",
        "print(f\"\\nIMC calculado: {calcula_imc():.2f}\")"
      ],
      "metadata": {
        "id": "ZCOhZJqscBjf",
        "outputId": "182e21b0-c3eb-4bd4-eac2-d07e2f7c8b8b",
        "colab": {
          "base_uri": "https://localhost:8080/"
        }
      },
      "execution_count": 1,
      "outputs": [
        {
          "output_type": "stream",
          "name": "stdout",
          "text": [
            "Maior valor: 96\n",
            "Menor valor: 3\n",
            "Soma dos valores: 2606\n",
            "Valor absoluto de -25: 25\n",
            "Número 3.14159 arredondado para 2 casas decimais: 3.14\n",
            "Média: 48.26\n",
            "Mediana: 49.0\n",
            "Moda: 11\n",
            "Variância da amostra: 741.1\n",
            "Desvio padrão da amostra: 27.22\n",
            "\n",
            "IMC calculado: 22.86\n"
          ]
        }
      ]
    }
  ],
  "metadata": {
    "colab": {
      "toc_visible": true,
      "provenance": [],
      "include_colab_link": true
    },
    "kernelspec": {
      "display_name": "Python 3",
      "name": "python3"
    }
  },
  "nbformat": 4,
  "nbformat_minor": 0
}