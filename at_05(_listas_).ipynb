{
  "cells": [
    {
      "cell_type": "markdown",
      "metadata": {
        "id": "view-in-github",
        "colab_type": "text"
      },
      "source": [
        "<a href=\"https://colab.research.google.com/github/edusantos-tech/eduardo-miguel-dos-santos/blob/main/at_05(_listas_).ipynb\" target=\"_parent\"><img src=\"https://colab.research.google.com/assets/colab-badge.svg\" alt=\"Open In Colab\"/></a>"
      ]
    },
    {
      "cell_type": "markdown",
      "source": [
        "# Nova seção"
      ],
      "metadata": {
        "id": "RC0IkwPjb9u-"
      }
    },
    {
      "cell_type": "code",
      "source": [
        "import statistics\n",
        "import random\n",
        "import numpy as np\n",
        "\n",
        "def calcula_imc(peso=70, altura=1.75):\n",
        "    return peso / (altura ** 2)\n",
        "\n",
        "alturas = [\n",
        "    45, 23, 67, 12, 11, 89, 23, 41, 50, 62, 78, 34, 56, 19, 72, 88,\n",
        "    11, 90, 39, 65, 76, 27, 48, 59, 81, 14, 11, 93, 3, 68, 29, 52,\n",
        "    74, 16, 85, 20, 55, 38, 69, 11, 83, 7, 44, 61, 18, 96, 22, 58,\n",
        "    31, 71, 40, 53, 87, 31\n",
        "]\n",
        "\n",
        "print(\"Maior valor:\", max(alturas))\n",
        "print(\"Menor valor:\", min(alturas))\n",
        "print(\"Soma total:\", sum(alturas))\n",
        "print(\"Valor absoluto de -25:\", abs(-25))\n",
        "print(\"Arredondamento de 3.14159:\", round(3.14159, 2))\n",
        "print(\"Média:\", statistics.mean(alturas))\n",
        "print(\"Mediana:\", statistics.median(alturas))\n",
        "print(\"Moda:\", statistics.mode(alturas))\n",
        "print(\"Variância:\", statistics.variance(alturas))\n",
        "print(\"Desvio padrão:\", statistics.stdev(alturas))\n",
        "\n",
        "matriz_float = np.random.rand(5, 10)\n",
        "matriz_int = np.random.randint(0, 10, (8, 4))\n",
        "\n",
        "print(\"\\nMatriz 5x10 de floats aleatórios:\")\n",
        "print(matriz_float)\n",
        "\n",
        "print(\"\\nMatriz 8x4 de inteiros aleatórios:\")\n",
        "print(matriz_int)\n"
      ],
      "metadata": {
        "id": "ZCOhZJqscBjf",
        "outputId": "de830c19-508c-464d-ee7c-aca8b3a00b0c",
        "colab": {
          "base_uri": "https://localhost:8080/"
        }
      },
      "execution_count": null,
      "outputs": [
        {
          "output_type": "stream",
          "name": "stdout",
          "text": [
            "Maior valor: 96\n",
            "Menor valor: 3\n",
            "Soma total: 2606\n",
            "Valor absoluto de -25: 25\n",
            "Arredondamento de 3.14159: 3.14\n",
            "Média: 48.25925925925926\n",
            "Mediana: 49.0\n",
            "Moda: 11\n",
            "Variância: 741.1013277428372\n",
            "Desvio padrão: 27.223176297831913\n",
            "\n",
            "Matriz 5x10 de floats aleatórios:\n",
            "[[0.091024   0.96516456 0.87018273 0.26052215 0.87240774 0.98671568\n",
            "  0.73611969 0.10213904 0.35256157 0.83080121]\n",
            " [0.38959948 0.66991264 0.42628931 0.83434944 0.16207952 0.61835456\n",
            "  0.87437557 0.88333623 0.67029602 0.04568708]\n",
            " [0.72987683 0.78345142 0.86114931 0.80989024 0.90006482 0.83242074\n",
            "  0.06469177 0.84171321 0.76843005 0.24034886]\n",
            " [0.62386129 0.36516323 0.65333521 0.74291949 0.11290193 0.55040733\n",
            "  0.77312686 0.20600766 0.41870166 0.63934388]\n",
            " [0.05500964 0.38879801 0.32806141 0.49140789 0.80710283 0.13994388\n",
            "  0.80834895 0.98365198 0.51530858 0.25622689]]\n",
            "\n",
            "Matriz 8x4 de inteiros aleatórios:\n",
            "[[1 2 2 9]\n",
            " [9 2 9 1]\n",
            " [0 1 5 3]\n",
            " [6 3 7 1]\n",
            " [8 9 8 1]\n",
            " [5 3 4 2]\n",
            " [1 8 5 2]\n",
            " [5 9 1 2]]\n"
          ]
        }
      ]
    }
  ],
  "metadata": {
    "colab": {
      "toc_visible": true,
      "provenance": [],
      "include_colab_link": true
    },
    "kernelspec": {
      "display_name": "Python 3",
      "name": "python3"
    }
  },
  "nbformat": 4,
  "nbformat_minor": 0
}