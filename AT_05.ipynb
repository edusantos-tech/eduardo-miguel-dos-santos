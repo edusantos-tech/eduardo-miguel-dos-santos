{
  "nbformat": 4,
  "nbformat_minor": 0,
  "metadata": {
    "colab": {
      "provenance": [],
      "toc_visible": true,
      "authorship_tag": "ABX9TyM1/gG6G0OvniB+O8m/W8Ud",
      "include_colab_link": true
    },
    "kernelspec": {
      "name": "python3",
      "display_name": "Python 3"
    },
    "language_info": {
      "name": "python"
    }
  },
  "cells": [
    {
      "cell_type": "markdown",
      "metadata": {
        "id": "view-in-github",
        "colab_type": "text"
      },
      "source": [
        "<a href=\"https://colab.research.google.com/github/edusantos-tech/eduardo-miguel-dos-santos/blob/main/AT_05.ipynb\" target=\"_parent\"><img src=\"https://colab.research.google.com/assets/colab-badge.svg\" alt=\"Open In Colab\"/></a>"
      ]
    },
    {
      "cell_type": "code",
      "execution_count": 1,
      "metadata": {
        "id": "-3xDnK3hVjWY"
      },
      "outputs": [],
      "source": [
        "import statistics\n",
        "import random\n",
        "import numpy as np"
      ]
    },
    {
      "cell_type": "code",
      "source": [
        "\n",
        "def calcula_imc(peso=70, altura=1.75):\n",
        "    return peso / (altura ** 2)\n",
        "\n",
        "imc = calcula_imc()\n",
        "print(f\"IMC calculado: {imc:.2f}\")\n"
      ],
      "metadata": {
        "colab": {
          "base_uri": "https://localhost:8080/"
        },
        "id": "XftStc5dSxhF",
        "outputId": "504e2f75-2e0a-4bb2-9b95-a6a6d6fb3e21"
      },
      "execution_count": 2,
      "outputs": [
        {
          "output_type": "stream",
          "name": "stdout",
          "text": [
            "IMC calculado: 22.86\n"
          ]
        }
      ]
    },
    {
      "cell_type": "code",
      "source": [
        "alturas = [45, 23, 67, 12, 11, 89, 23, 41, 50, 62, 78, 34, 56, 19, 72, 88, 11, 90,\n",
        "           39, 65, 76, 27, 48, 59, 81, 14, 11, 93, 3, 68, 29, 52, 74, 16, 85, 20,\n",
        "           55, 38, 69, 11, 83, 7, 44, 61, 18, 96, 22, 58, 31, 71, 40, 53, 87, 31]\n",
        "\n",
        "print(f\"Maior valor: {max(alturas)}\")\n",
        "print(f\"Menor valor: {min(alturas)}\")\n",
        "print(f\"Soma dos valores: {sum(alturas)}\")\n",
        "print(f\"Valor absoluto de -25: {abs(-25)}\")\n",
        "print(f\"Arredondamento de 3.14159 para 2 casas decimais: {round(3.14159, 2)}\")\n",
        "print(f\"Média: {statistics.mean(alturas)}\")\n",
        "print(f\"Mediana: {statistics.median(alturas)}\")\n",
        "print(f\"Moda: {statistics.mode(alturas)}\")\n",
        "print(f\"Variância amostral: {statistics.variance(alturas)}\")\n",
        "print(f\"Desvio padrão amostral: {statistics.stdev(alturas)}\")"
      ],
      "metadata": {
        "colab": {
          "base_uri": "https://localhost:8080/"
        },
        "id": "sOmbSvzfS7gM",
        "outputId": "883f3869-c347-4860-ede0-95fd5ff48d8f"
      },
      "execution_count": 3,
      "outputs": [
        {
          "output_type": "stream",
          "name": "stdout",
          "text": [
            "Maior valor: 96\n",
            "Menor valor: 3\n",
            "Soma dos valores: 2606\n",
            "Valor absoluto de -25: 25\n",
            "Arredondamento de 3.14159 para 2 casas decimais: 3.14\n",
            "Média: 48.25925925925926\n",
            "Mediana: 49.0\n",
            "Moda: 11\n",
            "Variância amostral: 741.1013277428372\n",
            "Desvio padrão amostral: 27.223176297831913\n"
          ]
        }
      ]
    },
    {
      "cell_type": "code",
      "source": [
        "matriz_float = np.random.rand(5, 10)\n",
        "print(\"\\nMatriz 5x10 de floats entre 0 e 1:\")\n",
        "print(matriz_float)\n",
        "matriz_int = np.random.randint(0, 10, size=(8, 4))\n",
        "print(\"\\nMatriz 8x4 de inteiros entre 0 e 9:\")\n",
        "print(matriz_int)"
      ],
      "metadata": {
        "colab": {
          "base_uri": "https://localhost:8080/"
        },
        "id": "xW21nW8oTXSz",
        "outputId": "ad995739-11fe-4e86-fc38-cf6713232bf8"
      },
      "execution_count": 4,
      "outputs": [
        {
          "output_type": "stream",
          "name": "stdout",
          "text": [
            "\n",
            "Matriz 5x10 de floats entre 0 e 1:\n",
            "[[0.81915347 0.01577666 0.49238058 0.97118184 0.70692631 0.0324586\n",
            "  0.36902489 0.04235618 0.51955595 0.56468299]\n",
            " [0.54498351 0.74366125 0.79224511 0.71451637 0.8026057  0.38325591\n",
            "  0.60347317 0.04119339 0.70564472 0.10633745]\n",
            " [0.00332346 0.37299807 0.72486703 0.71479147 0.28479159 0.48396624\n",
            "  0.69410808 0.73297432 0.18811613 0.05843345]\n",
            " [0.88555062 0.59394687 0.269711   0.49220292 0.23195961 0.87499787\n",
            "  0.22017552 0.27349202 0.60845104 0.86339604]\n",
            " [0.51382307 0.0372604  0.36164538 0.0524914  0.31593126 0.34410672\n",
            "  0.85277678 0.6364071  0.73635688 0.15604349]]\n",
            "\n",
            "Matriz 8x4 de inteiros entre 0 e 9:\n",
            "[[7 9 4 5]\n",
            " [6 2 2 5]\n",
            " [2 1 0 3]\n",
            " [2 4 4 1]\n",
            " [8 7 0 1]\n",
            " [0 7 3 4]\n",
            " [9 2 1 2]\n",
            " [6 8 9 3]]\n"
          ]
        }
      ]
    }
  ]
}