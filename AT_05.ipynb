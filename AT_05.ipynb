import statistics
import random
import numpy as np


def calcula_imc(peso=70, altura=1.75):
    return peso / (altura ** 2)


alturas = [
    45, 23, 67, 12, 11, 89, 23, 41, 50, 62, 78, 34, 56, 19, 72, 88,
    11, 90, 39, 65, 76, 27, 48, 59, 81, 14, 11, 93, 3, 68, 29, 52,
    74, 16, 85, 20, 55, 38, 69, 11, 83, 7, 44, 61, 18, 96, 22, 58,
    31, 71, 40, 53, 87, 31
]

print("Maior valor:", max(alturas))
print("Menor valor:", min(alturas))
print("Soma total:", sum(alturas))
print("Valor absoluto de -25:", abs(-25))
print("Arredondamento de 3.14159:", round(3.14159, 2))


print("Média:", statistics.mean(alturas))
print("Mediana:", statistics.median(alturas))
print("Moda:", statistics.mode(alturas))
print("Variância:", statistics.variance(alturas))
print("Desvio padrão:", statistics.stdev(alturas))


matriz_float = np.random.rand(5, 10)
matriz_int = np.random.randint(0, 10, (8, 4))

print("\nMatriz 5x10 de floats aleatórios:")
print(matriz_float)

print("\nMatriz 8x4 de inteiros aleatórios:")
print(matriz_int)
