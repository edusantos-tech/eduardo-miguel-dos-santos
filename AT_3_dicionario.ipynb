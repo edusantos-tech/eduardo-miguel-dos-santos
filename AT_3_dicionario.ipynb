{
  "nbformat": 4,
  "nbformat_minor": 0,
  "metadata": {
    "colab": {
      "provenance": [],
      "authorship_tag": "ABX9TyNYOda2WIVVgQGGHX7LSD4S",
      "include_colab_link": true
    },
    "kernelspec": {
      "name": "python3",
      "display_name": "Python 3"
    },
    "language_info": {
      "name": "python"
    }
  },
  "cells": [
    {
      "cell_type": "markdown",
      "metadata": {
        "id": "view-in-github",
        "colab_type": "text"
      },
      "source": [
        "<a href=\"https://colab.research.google.com/github/edusantos-tech/eduardo-miguel-dos-santos/blob/main/AT_3_dicionario.ipynb\" target=\"_parent\"><img src=\"https://colab.research.google.com/assets/colab-badge.svg\" alt=\"Open In Colab\"/></a>"
      ]
    },
    {
      "cell_type": "markdown",
      "source": [],
      "metadata": {
        "id": "X-5r7lm5Z_i1"
      }
    },
    {
      "cell_type": "code",
      "source": [
        "notas = {'Teo': 8.5, 'Cristiano': 8.9, 'Matson': 7.7}\n",
        "print(\"1.\", notas['Matson'])\n",
        "notas['Bruna'] = 8.7\n",
        "notas['Teo'] = 9.2\n",
        "print(\"4.\", 'Carlos' in notas)\n",
        "del notas['Matson']\n",
        "notas['Lara'] = 9.5\n",
        "notas['João'] = 7.8\n",
        "print(\"7.\", list(notas.keys()))\n",
        "print(\"8.\", list(notas.values()))\n",
        "print(\"9.\", notas.get('Islla', 'Aluno não encontrado'))\n",
        "print(\"10.\", notas.get('Lara'))\n"
      ],
      "metadata": {
        "colab": {
          "base_uri": "https://localhost:8080/"
        },
        "id": "FjHmWsYEZB04",
        "outputId": "294e0de8-effe-404d-9da9-3e3e1d285103"
      },
      "execution_count": 2,
      "outputs": [
        {
          "output_type": "stream",
          "name": "stdout",
          "text": [
            "1. 7.7\n",
            "4. False\n",
            "7. ['Teo', 'Cristiano', 'Bruna', 'Lara', 'João']\n",
            "8. [9.2, 8.9, 8.7, 9.5, 7.8]\n",
            "9. Aluno não encontrado\n",
            "10. 9.5\n"
          ]
        }
      ]
    },
    {
      "cell_type": "code",
      "source": [
        "\n"
      ],
      "metadata": {
        "id": "vfGLNSCzZbrv"
      },
      "execution_count": null,
      "outputs": []
    }
  ]
}