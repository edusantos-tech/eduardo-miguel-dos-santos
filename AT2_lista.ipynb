{
  "nbformat": 4,
  "nbformat_minor": 0,
  "metadata": {
    "colab": {
      "provenance": [],
      "toc_visible": true,
      "authorship_tag": "ABX9TyMGB88mvxslPYWHP2CzmAXZ",
      "include_colab_link": true
    },
    "kernelspec": {
      "name": "python3",
      "display_name": "Python 3"
    },
    "language_info": {
      "name": "python"
    }
  },
  "cells": [
    {
      "cell_type": "markdown",
      "metadata": {
        "id": "view-in-github",
        "colab_type": "text"
      },
      "source": [
        "<a href=\"https://colab.research.google.com/github/edusantos-tech/eduardo-miguel-dos-santos/blob/main/AT2_lista.ipynb\" target=\"_parent\"><img src=\"https://colab.research.google.com/assets/colab-badge.svg\" alt=\"Open In Colab\"/></a>"
      ]
    },
    {
      "cell_type": "code",
      "execution_count": 1,
      "metadata": {
        "colab": {
          "base_uri": "https://localhost:8080/"
        },
        "id": "-3xDnK3hVjWY",
        "outputId": "4103ba47-8313-4666-ce76-0783518758f1"
      },
      "outputs": [
        {
          "output_type": "stream",
          "name": "stdout",
          "text": [
            "Lista de compras: ['Arroz', 'Feijão Preto', 'Leite', 'Ovos', ['Maçã', 'Banana', 'Laranja', 'Uva', 'Morango'], 'Manteiga', 'Açúcar', 'Iogurte', 'Queijo', 'Tomate', 'Alface']\n",
            "Terceiro elemento: Leite\n",
            "Quinto elemento: ['Maçã', 'Banana', 'Laranja', 'Uva', 'Morango']\n",
            "Número de elementos na lista: 11\n"
          ]
        }
      ],
      "source": [
        "lista_compras = [\n",
        "    \"Arroz\", \"Feijão\", \"Leite\", \"Pão\", \"Ovos\",\n",
        "    \"Carnes\", [\"Maçã\", \"Banana\", \"Laranja\", \"Uva\", \"Morango\"],\n",
        "    \"Manteiga\", \"Café\", \"Açúcar\"]\n",
        "\n",
        "lista_compras[1] = \"Feijão Preto\"\n",
        "lista_compras[8] = \"Chá\"\n",
        "\n",
        "\n",
        "del lista_compras[3]\n",
        "del lista_compras[7]\n",
        "del lista_compras[4]\n",
        "\n",
        "\n",
        "lista_compras.append(\"Iogurte\")\n",
        "lista_compras.append(\"Queijo\")\n",
        "lista_compras.append(\"Tomate\")\n",
        "lista_compras.append(\"Alface\")\n",
        "\n",
        "\n",
        "terceiro_elemento = lista_compras[2]\n",
        "quinto_elemento = lista_compras[4]\n",
        "\n",
        "numero_elementos = len(lista_compras)\n",
        "\n",
        "print(\"Lista de compras:\", lista_compras)\n",
        "print(\"Terceiro elemento:\", terceiro_elemento)\n",
        "print(\"Quinto elemento:\", quinto_elemento)\n",
        "print(\"Número de elementos na lista:\", numero_elementos)\n"
      ]
    }
  ]
}