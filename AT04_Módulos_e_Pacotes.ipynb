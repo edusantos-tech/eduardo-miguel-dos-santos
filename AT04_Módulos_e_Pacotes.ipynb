{
  "cells": [
    {
      "cell_type": "markdown",
      "metadata": {
        "id": "view-in-github",
        "colab_type": "text"
      },
      "source": [
        "<a href=\"https://colab.research.google.com/github/edusantos-tech/eduardo-miguel-dos-santos/blob/main/AT04_M%C3%B3dulos_e_Pacotes.ipynb\" target=\"_parent\"><img src=\"https://colab.research.google.com/assets/colab-badge.svg\" alt=\"Open In Colab\"/></a>"
      ]
    },
    {
      "cell_type": "code",
      "source": [
        "\n",
        "import statistics\n",
        "\n",
        "dados = [10, 12, 14, 16, 18, 20, 22, 24, 26, 28, 30, 32, 34, 36]\n",
        "\n"
      ],
      "metadata": {
        "id": "7xL7e6Zny4Vx"
      },
      "execution_count": null,
      "outputs": []
    },
    {
      "cell_type": "code",
      "source": [
        "media = statistics.mean(dados)\n",
        "mediana = statistics.median(dados)\n",
        "print(\"Usando import statistics:\")\n",
        "print(\"Média:\", media)\n",
        "print(\"Mediana:\", mediana)"
      ],
      "metadata": {
        "id": "y-yLTwLtzGsY",
        "outputId": "fd6b8278-219e-459c-9a37-7649efef6df1",
        "colab": {
          "base_uri": "https://localhost:8080/"
        }
      },
      "execution_count": null,
      "outputs": [
        {
          "output_type": "stream",
          "name": "stdout",
          "text": [
            "Usando import statistics:\n",
            "Média: 23\n",
            "Mediana: 23.0\n"
          ]
        }
      ]
    },
    {
      "cell_type": "code",
      "source": [
        "import statistics as st\n",
        "\n",
        "media_alias = st.mean(dados)\n",
        "mediana_alias = st.median(dados)\n",
        "print(\"\\nUsando import statistics as st:\")\n",
        "print(\"Média:\", media_alias)\n",
        "print(\"Mediana:\", mediana_alias)"
      ],
      "metadata": {
        "id": "iENrsazFzLdv",
        "outputId": "f26c606d-3d82-4617-d76f-9dc9911d2816",
        "colab": {
          "base_uri": "https://localhost:8080/"
        }
      },
      "execution_count": null,
      "outputs": [
        {
          "output_type": "stream",
          "name": "stdout",
          "text": [
            "\n",
            "Usando import statistics as st:\n",
            "Média: 23\n",
            "Mediana: 23.0\n"
          ]
        }
      ]
    },
    {
      "cell_type": "code",
      "source": [
        "from statistics import mean, median\n",
        "\n",
        "media_func = mean(dados)\n",
        "mediana_func = median(dados)\n",
        "print(\"\\nUsando from statistics import mean, median:\")\n",
        "print(\"Média:\", media_func)\n",
        "print(\"Mediana:\", mediana_func)"
      ],
      "metadata": {
        "id": "Aoh5wwQUzOS3",
        "outputId": "254efcb8-6a68-4e36-ea12-a055e21edeb6",
        "colab": {
          "base_uri": "https://localhost:8080/"
        }
      },
      "execution_count": null,
      "outputs": [
        {
          "output_type": "stream",
          "name": "stdout",
          "text": [
            "\n",
            "Usando from statistics import mean, median:\n",
            "Média: 23\n",
            "Mediana: 23.0\n"
          ]
        }
      ]
    },
    {
      "cell_type": "code",
      "source": [
        "from statistics import *\n",
        "\n",
        "media_all = mean(dados)\n",
        "mediana_all = median(dados)\n",
        "print(\"\\nUsando from statistics import *:\")\n",
        "print(\"Média:\", media_all)\n",
        "print(\"Mediana:\", mediana_all)\n"
      ],
      "metadata": {
        "id": "zkfOrJEOzQoQ",
        "outputId": "909fb03d-5119-4c38-ccfd-49475333a920",
        "colab": {
          "base_uri": "https://localhost:8080/"
        }
      },
      "execution_count": null,
      "outputs": [
        {
          "output_type": "stream",
          "name": "stdout",
          "text": [
            "\n",
            "Usando from statistics import *:\n",
            "Média: 23\n",
            "Mediana: 23.0\n"
          ]
        }
      ]
    },
    {
      "cell_type": "markdown",
      "source": [],
      "metadata": {
        "id": "buzNyFiKzGOA"
      }
    }
  ],
  "metadata": {
    "colab": {
      "toc_visible": true,
      "provenance": [],
      "include_colab_link": true
    },
    "kernelspec": {
      "display_name": "Python 3",
      "name": "python3"
    }
  },
  "nbformat": 4,
  "nbformat_minor": 0
}