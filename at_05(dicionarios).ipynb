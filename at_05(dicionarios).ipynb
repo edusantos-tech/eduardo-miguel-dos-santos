{
  "nbformat": 4,
  "nbformat_minor": 0,
  "metadata": {
    "colab": {
      "provenance": [],
      "include_colab_link": true
    },
    "kernelspec": {
      "name": "python3",
      "display_name": "Python 3"
    },
    "language_info": {
      "name": "python"
    }
  },
  "cells": [
    {
      "cell_type": "markdown",
      "metadata": {
        "id": "view-in-github",
        "colab_type": "text"
      },
      "source": [
        "<a href=\"https://colab.research.google.com/github/edusantos-tech/eduardo-miguel-dos-santos/blob/main/at_05(dicionarios).ipynb\" target=\"_parent\"><img src=\"https://colab.research.google.com/assets/colab-badge.svg\" alt=\"Open In Colab\"/></a>"
      ]
    },
    {
      "cell_type": "markdown",
      "source": [],
      "metadata": {
        "id": "X-5r7lm5Z_i1"
      }
    },
    {
      "cell_type": "code",
      "source": [
        "\n",
        "dados = {\n",
        "    \"nome\": \"Exemplo\",\n",
        "    \"idade\": 25,\n",
        "    \"cidade\": \"Teste\"\n",
        "}\n",
        "\n",
        "for chave, valor in dados.items():\n",
        "    print(f\"{chave}: {valor}\")\n"
      ],
      "metadata": {
        "colab": {
          "base_uri": "https://localhost:8080/"
        },
        "id": "FjHmWsYEZB04",
        "outputId": "bde3ebab-adfc-4d81-d2cf-0cf6c4f47ad7"
      },
      "execution_count": null,
      "outputs": [
        {
          "output_type": "stream",
          "name": "stdout",
          "text": [
            "nome: Exemplo\n",
            "idade: 25\n",
            "cidade: Teste\n"
          ]
        }
      ]
    },
    {
      "cell_type": "code",
      "source": [
        "\n"
      ],
      "metadata": {
        "id": "vfGLNSCzZbrv"
      },
      "execution_count": null,
      "outputs": []
    }
  ]
}