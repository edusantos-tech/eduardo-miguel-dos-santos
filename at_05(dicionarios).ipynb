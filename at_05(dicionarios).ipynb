{
  "nbformat": 4,
  "nbformat_minor": 0,
  "metadata": {
    "colab": {
      "provenance": [],
      "include_colab_link": true
    },
    "kernelspec": {
      "name": "python3",
      "display_name": "Python 3"
    },
    "language_info": {
      "name": "python"
    }
  },
  "cells": [
    {
      "cell_type": "markdown",
      "metadata": {
        "id": "view-in-github",
        "colab_type": "text"
      },
      "source": [
        "<a href=\"https://colab.research.google.com/github/edusantos-tech/eduardo-miguel-dos-santos/blob/main/at_05(dicionarios).ipynb\" target=\"_parent\"><img src=\"https://colab.research.google.com/assets/colab-badge.svg\" alt=\"Open In Colab\"/></a>"
      ]
    },
    {
      "cell_type": "markdown",
      "source": [],
      "metadata": {
        "id": "X-5r7lm5Z_i1"
      }
    },
    {
      "cell_type": "code",
      "source": [
        "import numpy as np\n",
        "\n",
        "# Função para gerar matrizes aleatórias\n",
        "def gerar_matrizes():\n",
        "    return {\n",
        "        \"Matriz 5x10 de floats (0 a 1)\": np.random.rand(5, 10),\n",
        "        \"Matriz 8x4 de inteiros (0 a 9)\": np.random.randint(0, 10, (8, 4))\n",
        "    }\n",
        "\n",
        "# Exibir matrizes\n",
        "matrizes = gerar_matrizes()\n",
        "for chave, matriz in matrizes.items():\n",
        "    print(f\"{chave}:\\n{matriz}\\n\")\n"
      ],
      "metadata": {
        "colab": {
          "base_uri": "https://localhost:8080/"
        },
        "id": "FjHmWsYEZB04",
        "outputId": "d28cd9f1-a069-4fca-c6ff-0e846c975fce"
      },
      "execution_count": 1,
      "outputs": [
        {
          "output_type": "stream",
          "name": "stdout",
          "text": [
            "Matriz 5x10 de floats (0 a 1):\n",
            "[[0.4018684  0.82166608 0.84615905 0.33595118 0.23714883 0.4693411\n",
            "  0.01317192 0.11264473 0.52292308 0.31389969]\n",
            " [0.60107741 0.53114147 0.89734987 0.46093484 0.66052235 0.55880637\n",
            "  0.1520517  0.94664913 0.56229445 0.02371865]\n",
            " [0.11555735 0.08226617 0.10784164 0.88690988 0.53117449 0.91672846\n",
            "  0.50007546 0.02693904 0.64350095 0.8434367 ]\n",
            " [0.33618982 0.71515254 0.078797   0.21128764 0.46331349 0.42723118\n",
            "  0.55608346 0.86743312 0.11455095 0.0543199 ]\n",
            " [0.60242098 0.52997948 0.99185285 0.39422051 0.79876647 0.53018067\n",
            "  0.02587292 0.58072936 0.60029812 0.77032979]]\n",
            "\n",
            "Matriz 8x4 de inteiros (0 a 9):\n",
            "[[0 7 4 4]\n",
            " [0 4 4 6]\n",
            " [7 1 0 2]\n",
            " [1 6 2 8]\n",
            " [7 7 6 2]\n",
            " [7 4 0 0]\n",
            " [7 5 6 0]\n",
            " [2 7 6 0]]\n",
            "\n"
          ]
        }
      ]
    },
    {
      "cell_type": "code",
      "source": [
        "\n"
      ],
      "metadata": {
        "id": "vfGLNSCzZbrv"
      },
      "execution_count": null,
      "outputs": []
    }
  ]
}