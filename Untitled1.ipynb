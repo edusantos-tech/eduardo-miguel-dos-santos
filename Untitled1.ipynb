{
  "nbformat": 4,
  "nbformat_minor": 0,
  "metadata": {
    "colab": {
      "provenance": [],
      "authorship_tag": "ABX9TyMhrEURYhOyAx9znpjPKovu",
      "include_colab_link": true
    },
    "kernelspec": {
      "name": "python3",
      "display_name": "Python 3"
    },
    "language_info": {
      "name": "python"
    }
  },
  "cells": [
    {
      "cell_type": "markdown",
      "metadata": {
        "id": "view-in-github",
        "colab_type": "text"
      },
      "source": [
        "<a href=\"https://colab.research.google.com/github/edusantos-tech/eduardo-miguel-dos-santos/blob/main/Untitled1.ipynb\" target=\"_parent\"><img src=\"https://colab.research.google.com/assets/colab-badge.svg\" alt=\"Open In Colab\"/></a>"
      ]
    },
    {
      "cell_type": "markdown",
      "source": [
        "# Nova seção"
      ],
      "metadata": {
        "id": "gFfXCXTQf4bM"
      }
    },
    {
      "cell_type": "code",
      "source": [
        "frutas = (\"maça\", \"uva\", \"morango\",\"pera\")\n",
        "frutas_lista= list (frutas)\n",
        "frutas_lista.insert(1,\"jabuticaba\")\n",
        "frutas_lista.insert(2,\"jaca\")\n",
        "frutas = tuple(frutas_lista)\n",
        "print(frutas)"
      ],
      "metadata": {
        "id": "m9FSmz74f8LU",
        "colab": {
          "base_uri": "https://localhost:8080/"
        },
        "outputId": "08f6dbee-39ba-4031-e02b-52a91c7bb820"
      },
      "execution_count": null,
      "outputs": [
        {
          "output_type": "stream",
          "name": "stdout",
          "text": [
            "('maça', 'jabuticaba', 'jaca', 'uva', 'morango', 'pera')\n"
          ]
        }
      ]
    },
    {
      "cell_type": "markdown",
      "source": [
        "# Nova seção"
      ],
      "metadata": {
        "id": "X2LjCVXorni8"
      }
    },
    {
      "cell_type": "code",
      "source": [
        "frutas = (\"maça\", \"uva\", \"morango\",\"pera\")\n",
        "frutas_lista=list(frutas)\n",
        "frutas_lista.insert(2,\"manga\")\n",
        "frutas_lista.insert(3,\"jaca\")\n",
        "frutas=tuple(frutas_lista)\n",
        "print(frutas)"
      ],
      "metadata": {
        "colab": {
          "base_uri": "https://localhost:8080/"
        },
        "id": "5mhUSXqyrohx",
        "outputId": "a530be5a-a33e-431a-bae9-9a0d41bd26f9"
      },
      "execution_count": null,
      "outputs": [
        {
          "output_type": "stream",
          "name": "stdout",
          "text": [
            "('maça', 'uva', 'manga', 'jaca', 'morango', 'pera')\n"
          ]
        }
      ]
    },
    {
      "cell_type": "markdown",
      "source": [
        "# Nova seção"
      ],
      "metadata": {
        "id": "Z6NQMcy-wObh"
      }
    },
    {
      "cell_type": "code",
      "source": [
        "frutas = [\"maça\", \"uva\", \"morango\",\"pera\"]\n",
        "novos_produtos=[\"jabuticaba\",\"jaca\"]\n",
        "frutas.extend(novos_produtos)\n",
        "print(frutas)"
      ],
      "metadata": {
        "colab": {
          "base_uri": "https://localhost:8080/"
        },
        "id": "8vJNcNrTwO-e",
        "outputId": "cc4b8dd3-800c-42c2-b7de-82063308e50a"
      },
      "execution_count": null,
      "outputs": [
        {
          "output_type": "stream",
          "name": "stdout",
          "text": [
            "['maça', 'uva', 'morango', 'pera', 'jabuticaba', 'jaca']\n"
          ]
        }
      ]
    },
    {
      "cell_type": "markdown",
      "source": [
        "# Nova seção"
      ],
      "metadata": {
        "id": "scTPDzed0xN3"
      }
    },
    {
      "cell_type": "code",
      "source": [
        "frutas = [\"maça\", \"uva\", \"morango\",\"pera\"]\n",
        "frutas.insert(2,\"jaca\")\n",
        "print(frutas)"
      ],
      "metadata": {
        "colab": {
          "base_uri": "https://localhost:8080/"
        },
        "id": "e3mrxls40xyG",
        "outputId": "3ac42f35-9d1b-482b-e969-3073e00a97c8"
      },
      "execution_count": null,
      "outputs": [
        {
          "output_type": "stream",
          "name": "stdout",
          "text": [
            "['maça', 'uva', 'jaca', 'morango', 'pera']\n"
          ]
        }
      ]
    },
    {
      "cell_type": "code",
      "source": [
        "materias = (\"português\",\"matemática\",\"historia\",\"geografia\""
      ],
      "metadata": {
        "id": "Prayz7NEmKdA"
      },
      "execution_count": null,
      "outputs": []
    }
  ]
}